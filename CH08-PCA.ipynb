{
 "cells": [
  {
   "cell_type": "markdown",
   "metadata": {},
   "source": [
    "Theorem 8.5 \n",
    "* Eigengap: $\\nu :=\\lambda_1(\\boldsymbol{\\Sigma})-\\lambda_2(\\boldsymbol{\\Sigma})$\n",
    "* $\\|\\mathbf{P}\\|_2< \\nu/2$\n",
    "* $\\widetilde{\\mathbf{P}} = \\mathbf{U}'\\mathbf{P}\\mathbf{U}=\\left(\\begin{smallmatrix}\\widetilde{p}_{11}&\\widetilde{\\boldsymbol{p}}'\\\\ \\widetilde{\\boldsymbol{p}}&\\widetilde{\\mathbf{P}}_{22}\\end{smallmatrix}\\right)$\n",
    "$$\n",
    "\\|\\widehat{\\boldsymbol{\\theta}}-\\boldsymbol{\\theta}^*\\|_2 \\leqslant \\frac{2\\|\\widetilde{\\boldsymbol{p}}\\|_2}{\\nu-2\\|\\mathbf{P}\\|_2}\n",
    "$$"
   ]
  },
  {
   "cell_type": "code",
   "execution_count": 90,
   "metadata": {},
   "outputs": [
    {
     "name": "stdout",
     "output_type": "stream",
     "text": [
      "LHS: 0.013520624317900846 RHS: 4.48430222040106\n"
     ]
    }
   ],
   "source": [
    "import numpy as np\n",
    "from numpy import linalg as LA \n",
    "\n",
    "np.random.seed(2022)\n",
    "\n",
    "n = 1000\n",
    "Sigma = np.random.normal(0, 1, (n, n))\n",
    "Sigma = (Sigma+Sigma.T)/2\n",
    "lam,vec = LA.eigh(Sigma)\n",
    "idx = lam.argsort()[::-1]\n",
    "U = vec[:,idx]\n",
    "theta_star = U[:,0]\n",
    "lam = lam[idx]\n",
    "nu = lam[0]-lam[1] #eigengap of Sigma\n",
    "\n",
    "P = np.random.normal(0, 1, (n, n))\n",
    "P = 0.9*(nu/2)*P/LA.norm(P,2)\n",
    "\n",
    "Sigma_hat = Sigma + P\n",
    "lam,vec = LA.eigh(Sigma_hat)\n",
    "idx = lam.argsort()[::-1]\n",
    "theta_hat = vec[:,idx[0]]\n",
    "\n",
    "P_tilde = U.T @ P @U\n",
    "LHS = LA.norm(theta_hat-theta_star)\n",
    "\n",
    "p_tilde = P_tilde[1:(n-1),0]\n",
    "\n",
    "RHS = 2*LA.norm(p_tilde)/(nu-2*LA.norm(P,2))\n",
    "\n",
    "print(\"LHS:\", LHS, \"RHS:\", RHS)\n"
   ]
  },
  {
   "cell_type": "markdown",
   "metadata": {},
   "source": [
    "Lemma 8.6\n",
    "* $\\Delta = \\widehat{\\boldsymbol{\\theta}}-\\boldsymbol{\\theta}^*$\n",
    "* $\\Psi(\\Delta,\\mathbf{P}) := \\langle \\Delta, \\mathbf{P}\\Delta\\rangle + 2\\langle \\Delta, \\mathbf{P}\\boldsymbol{\\theta}^*\\rangle$\n",
    "$$\n",
    "    \\nu (1-\\langle \\widehat{\\boldsymbol{\\theta}}, \\boldsymbol{\\theta}^*\\rangle^2) \\leqslant |\\Psi(\\widehat{\\Delta},\\mathbf{P})|\n",
    "$$"
   ]
  },
  {
   "cell_type": "code",
   "execution_count": 89,
   "metadata": {},
   "outputs": [
    {
     "name": "stdout",
     "output_type": "stream",
     "text": [
      "LHS: 0.00010929720884229825 RHS: 0.0006842701658325217\n"
     ]
    }
   ],
   "source": [
    "def Psi(Delta, P, theta):\n",
    "    y = np.inner(Delta, P@Delta)+2*np.inner(Delta,P@theta)\n",
    "    return y \n",
    "LHS = nu*(1-np.inner(theta_hat,theta_star)**2)\n",
    "Delta_hat = theta_hat - theta_star\n",
    "RHS = Psi(Delta_hat, P, theta_star)\n",
    "\n",
    "print(\"LHS:\", LHS, \"RHS:\", RHS)"
   ]
  }
 ],
 "metadata": {
  "interpreter": {
   "hash": "1874d1167f3dca7e7ccc14959bd132a63e7fba72a95a3694d23b4953a06ea3f4"
  },
  "kernelspec": {
   "display_name": "Python 3.7.13 ('base')",
   "language": "python",
   "name": "python3"
  },
  "language_info": {
   "name": "python",
   "version": "3.7.13"
  },
  "orig_nbformat": 4
 },
 "nbformat": 4,
 "nbformat_minor": 2
}
