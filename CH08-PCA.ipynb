{
 "cells": [
  {
   "cell_type": "markdown",
   "metadata": {},
   "source": [
    "Theorem 8.5 \n",
    "* Eigengap: $\\nu :=\\lambda_1(\\boldsymbol{\\Sigma})-\\lambda_2(\\boldsymbol{\\Sigma})$\n",
    "* $\\|\\mathbf{P}\\|_2< \\nu/2$\n",
    "* $\\widetilde{\\mathbf{P}} = \\mathbf{U}'\\mathbf{P}\\mathbf{U}=\\left(\\begin{smallmatrix}\\widetilde{p}_{11}&\\widetilde{\\boldsymbol{p}}'\\\\ \\widetilde{\\boldsymbol{p}}&\\widetilde{\\mathbf{P}}_{22}\\end{smallmatrix}\\right)$\n",
    "$$\n",
    "\\|\\widehat{\\boldsymbol{\\theta}}-\\boldsymbol{\\theta}^*\\|_2 \\leqslant \\frac{2\\|\\widetilde{\\boldsymbol{p}}\\|_2}{\\nu-2\\|\\mathbf{P}\\|_2}\n",
    "$$"
   ]
  },
  {
   "cell_type": "code",
   "execution_count": 105,
   "metadata": {},
   "outputs": [
    {
     "name": "stdout",
     "output_type": "stream",
     "text": [
      "LHS: 0.013520624317900846 RHS: 4.48430222040106\n"
     ]
    }
   ],
   "source": [
    "import numpy as np\n",
    "from numpy import linalg as LA \n",
    "\n",
    "np.random.seed(2022)\n",
    "\n",
    "n = 1000\n",
    "Sigma = np.random.normal(0, 1, (n, n))\n",
    "Sigma = (Sigma+Sigma.T)/2\n",
    "lam,vec = LA.eigh(Sigma)\n",
    "idx = lam.argsort()[::-1]\n",
    "U = vec[:,idx]\n",
    "theta_star = U[:,0]\n",
    "lam = lam[idx]\n",
    "nu = lam[0]-lam[1] #eigengap of Sigma\n",
    "\n",
    "P = np.random.normal(0, 1, (n, n))\n",
    "P = 0.9*(nu/2)*P/LA.norm(P,2)\n",
    "\n",
    "Sigma_hat = Sigma + P \n",
    "lam,vec = LA.eigh(Sigma_hat)\n",
    "idx = lam.argsort()[::-1]\n",
    "theta_hat = vec[:,idx[0]]\n",
    "\n",
    "P_tilde = U.T @ P @U\n",
    "LHS = LA.norm(theta_hat-theta_star)\n",
    "\n",
    "p_tilde = P_tilde[1:(n-1),0]\n",
    "\n",
    "RHS = 2*LA.norm(p_tilde)/(nu-2*LA.norm(P,2))\n",
    "\n",
    "print(\"LHS:\", LHS, \"RHS:\", RHS)\n"
   ]
  },
  {
   "cell_type": "markdown",
   "metadata": {},
   "source": [
    "Lemma 8.6\n",
    "* $\\Delta = \\widehat{\\boldsymbol{\\theta}}-\\boldsymbol{\\theta}^*$\n",
    "* $\\Psi(\\Delta,\\mathbf{P}) := \\langle \\Delta, \\mathbf{P}\\Delta\\rangle + 2\\langle \\Delta, \\mathbf{P}\\boldsymbol{\\theta}^*\\rangle$\n",
    "$$\n",
    "    \\nu (1-\\langle \\widehat{\\boldsymbol{\\theta}}, \\boldsymbol{\\theta}^*\\rangle^2) \\leqslant |\\Psi(\\widehat{\\Delta},\\mathbf{P})|\n",
    "$$"
   ]
  },
  {
   "cell_type": "code",
   "execution_count": 106,
   "metadata": {},
   "outputs": [
    {
     "name": "stdout",
     "output_type": "stream",
     "text": [
      "LHS: 0.00010929720884229825 RHS: 0.0006842701658325217\n"
     ]
    }
   ],
   "source": [
    "def Psi(Delta, P, theta):\n",
    "    y = np.inner(Delta, P@Delta)+2*np.inner(Delta,P@theta)\n",
    "    return y \n",
    "LHS = nu*(1-np.inner(theta_hat,theta_star)**2)\n",
    "Delta_hat = theta_hat - theta_star\n",
    "RHS = Psi(Delta_hat, P, theta_star)\n",
    "\n",
    "print(\"LHS:\", LHS, \"RHS:\", RHS)"
   ]
  },
  {
   "cell_type": "code",
   "execution_count": 115,
   "metadata": {},
   "outputs": [],
   "source": [
    "n = 500\n",
    "d = 0.2*n\n",
    "loop_num = 100\n",
    "result = np.zeros(loop_num)\n",
    "nu_seq = np.arange(0.75,5,0.2)\n",
    "for nu in nu_seq:\n",
    "    for t in np.arange(0,loop_num,1,dtype=int):\n",
    "        theta_star =  np.random.normal(0, 1, (n, 1))\n",
    "        Sigma = nu*theta_star@theta_star.T + np.identity(n)\n",
    "        lam,vec = LA.eigh(Sigma_hat)\n",
    "        idx = lam.argsort()[::-1]\n",
    "        theta_hat = vec[:,idx[0]]\n",
    "        result[t] = LA.norm(theta_hat-theta_star)\n",
    "    "
   ]
  },
  {
   "cell_type": "code",
   "execution_count": 108,
   "metadata": {},
   "outputs": [
    {
     "name": "stdout",
     "output_type": "stream",
     "text": [
      "0.0007369578679795458 -0.0006842701658325217\n"
     ]
    }
   ],
   "source": [
    "a = -np.inner(theta_star, P@theta_star) + np.inner(theta_hat, P@theta_hat)\n",
    "\n",
    "b = -Psi(Delta_hat, P, theta_star)\n",
    "print(a, b)"
   ]
  },
  {
   "cell_type": "code",
   "execution_count": 114,
   "metadata": {},
   "outputs": [
    {
     "data": {
      "text/plain": [
       "array([ 0,  1,  2,  3,  4,  5,  6,  7,  8,  9, 10, 11, 12, 13, 14, 15, 16,\n",
       "       17, 18, 19, 20, 21, 22, 23, 24, 25, 26, 27, 28, 29, 30, 31, 32, 33,\n",
       "       34, 35, 36, 37, 38, 39, 40, 41, 42, 43, 44, 45, 46, 47, 48, 49, 50,\n",
       "       51, 52, 53, 54, 55, 56, 57, 58, 59, 60, 61, 62, 63, 64, 65, 66, 67,\n",
       "       68, 69, 70, 71, 72, 73, 74, 75, 76, 77, 78, 79, 80, 81, 82, 83, 84,\n",
       "       85, 86, 87, 88, 89, 90, 91, 92, 93, 94, 95, 96, 97, 98, 99])"
      ]
     },
     "execution_count": 114,
     "metadata": {},
     "output_type": "execute_result"
    }
   ],
   "source": [
    "np.arange(0,100,1,dtype=int)"
   ]
  }
 ],
 "metadata": {
  "interpreter": {
   "hash": "1874d1167f3dca7e7ccc14959bd132a63e7fba72a95a3694d23b4953a06ea3f4"
  },
  "kernelspec": {
   "display_name": "Python 3.7.13 ('base')",
   "language": "python",
   "name": "python3"
  },
  "language_info": {
   "name": "python",
   "version": "3.7.13"
  },
  "orig_nbformat": 4
 },
 "nbformat": 4,
 "nbformat_minor": 2
}
